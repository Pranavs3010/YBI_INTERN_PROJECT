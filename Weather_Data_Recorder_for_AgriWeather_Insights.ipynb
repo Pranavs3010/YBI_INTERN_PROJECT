{
  "cells": [
    {
      "cell_type": "markdown",
      "metadata": {
        "id": "view-in-github",
        "colab_type": "text"
      },
      "source": [
        "<a href=\"https://colab.research.google.com/github/Pranavs3010/YBI_INTERN_PROJECT/blob/main/Weather_Data_Recorder_for_AgriWeather_Insights.ipynb\" target=\"_parent\"><img src=\"https://colab.research.google.com/assets/colab-badge.svg\" alt=\"Open In Colab\"/></a>"
      ]
    },
    {
      "cell_type": "code",
      "execution_count": null,
      "id": "50b3c50c",
      "metadata": {
        "id": "50b3c50c"
      },
      "outputs": [],
      "source": [
        "import pandas as pd\n",
        "from datetime import datetime"
      ]
    },
    {
      "cell_type": "code",
      "source": [
        "weather_data = []\n",
        "recorded_dates = set()"
      ],
      "metadata": {
        "id": "K_beJjKZq7Jq"
      },
      "id": "K_beJjKZq7Jq",
      "execution_count": null,
      "outputs": []
    },
    {
      "cell_type": "code",
      "source": [
        "def add_weather_entry(date_str, temperature, condition):\n",
        "    try:\n",
        "        # Validate date format\n",
        "        date_obj = datetime.strptime(date_str, \"%Y-%m-%d\").date()\n",
        "        if date_obj in recorded_dates:\n",
        "            print(f\"Entry for {date_str} already exists.\")\n",
        "            return\n",
        "        # Add to data list and set\n",
        "        weather_data.append({\n",
        "            \"Date\": date_obj,\n",
        "            \"Temperature\": float(temperature),\n",
        "            \"Condition\": condition.capitalize()\n",
        "        })\n",
        "        recorded_dates.add(date_obj)\n",
        "        print(f\"Added entry for {date_str}.\")\n",
        "    except ValueError:\n",
        "        print(\"Invalid date format. Use YYYY-MM-DD.\")\n",
        "    except Exception as e:\n",
        "        print(f\"Error: {e}\")\n",
        "\n",
        "def view_weather_data():\n",
        "    if not weather_data:\n",
        "        print(\"No weather data recorded yet.\")\n",
        "        return\n",
        "    df = pd.DataFrame(weather_data)\n",
        "    print(df)\n",
        "\n",
        "def summarize_weather():\n",
        "    if not weather_data:\n",
        "        print(\"No data to summarize.\")\n",
        "        return\n",
        "    df = pd.DataFrame(weather_data)\n",
        "    avg_temp = df[\"Temperature\"].mean()\n",
        "    condition_counts = df[\"Condition\"].value_counts()\n",
        "    print(f\"Average Temperature: {avg_temp:.2f}°C\")\n",
        "    print(\"Condition Frequency:\")\n",
        "    print(condition_counts)\n",
        "\n",
        "def export_to_csv(filename=\"weather_summary.csv\"):\n",
        "    if not weather_data:\n",
        "        print(\"No data to export.\")\n",
        "        return\n",
        "    df = pd.DataFrame(weather_data)\n",
        "    df.to_csv(filename, index=False)\n",
        "    print(f\"Data exported to {filename}\")\n"
      ],
      "metadata": {
        "id": "hFFuBodmq__4"
      },
      "id": "hFFuBodmq__4",
      "execution_count": null,
      "outputs": []
    },
    {
      "cell_type": "code",
      "source": [
        "if __name__ == \"__main__\":\n",
        "    add_weather_entry(\"2025-08-14\", 32.5, \"Sunny\")\n",
        "    add_weather_entry(\"2025-08-15\", 30.2, \"Cloudy\")\n",
        "    add_weather_entry(\"2025-08-14\", 33.0, \"Rainy\")\n",
        "    view_weather_data()\n",
        "    summarize_weather()\n",
        "    export_to_csv()"
      ],
      "metadata": {
        "colab": {
          "base_uri": "https://localhost:8080/"
        },
        "id": "NKeFSbfjrJLI",
        "outputId": "d8375d8c-bf7f-4341-afcb-dae9e840b6a7"
      },
      "id": "NKeFSbfjrJLI",
      "execution_count": null,
      "outputs": [
        {
          "output_type": "stream",
          "name": "stdout",
          "text": [
            "Added entry for 2025-08-14.\n",
            "Added entry for 2025-08-15.\n",
            "Entry for 2025-08-14 already exists.\n",
            "         Date  Temperature Condition\n",
            "0  2025-08-14         32.5     Sunny\n",
            "1  2025-08-15         30.2    Cloudy\n",
            "Average Temperature: 31.35°C\n",
            "Condition Frequency:\n",
            "Condition\n",
            "Sunny     1\n",
            "Cloudy    1\n",
            "Name: count, dtype: int64\n",
            "Data exported to weather_summary.csv\n"
          ]
        }
      ]
    }
  ],
  "metadata": {
    "colab": {
      "provenance": [],
      "include_colab_link": true
    },
    "language_info": {
      "name": "python"
    },
    "kernelspec": {
      "name": "python3",
      "display_name": "Python 3"
    }
  },
  "nbformat": 4,
  "nbformat_minor": 5
}